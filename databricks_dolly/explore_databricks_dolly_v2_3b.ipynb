{
  "nbformat": 4,
  "nbformat_minor": 0,
  "metadata": {
    "colab": {
      "provenance": [],
      "gpuType": "L4",
      "machine_shape": "hm",
      "include_colab_link": true
    },
    "kernelspec": {
      "name": "python3",
      "display_name": "Python 3"
    },
    "language_info": {
      "name": "python"
    },
    "accelerator": "GPU"
  },
  "cells": [
    {
      "cell_type": "markdown",
      "metadata": {
        "id": "view-in-github",
        "colab_type": "text"
      },
      "source": [
        "<a href=\"https://colab.research.google.com/github/guimaraesabrina/explore_open_llms/blob/main/dolly_databricks/explore_databricks_dolly_v2_3b.ipynb\" target=\"_parent\"><img src=\"https://colab.research.google.com/assets/colab-badge.svg\" alt=\"Open In Colab\"/></a>"
      ]
    },
    {
      "cell_type": "markdown",
      "source": [
        "# Databricks Dolly V2 3B"
      ],
      "metadata": {
        "id": "XBZv14hctziJ"
      }
    },
    {
      "cell_type": "markdown",
      "source": [
        "# Model card"
      ],
      "metadata": {
        "id": "arPGhw2VWfM4"
      }
    },
    {
      "cell_type": "code",
      "source": [
        "# https://huggingface.co/databricks/dolly-v2-3b"
      ],
      "metadata": {
        "id": "wQ4gJ_tvGsrc"
      },
      "execution_count": null,
      "outputs": []
    },
    {
      "cell_type": "markdown",
      "source": [
        "# Install"
      ],
      "metadata": {
        "id": "6VYZzeIGWiQS"
      }
    },
    {
      "cell_type": "code",
      "execution_count": null,
      "metadata": {
        "id": "8SKMHFCPprqI"
      },
      "outputs": [],
      "source": [
        "%pip install \"accelerate>=0.16.0,<1\" \"transformers[torch]>=4.28.1,<5\" \"torch>=1.13.1,<2\""
      ]
    },
    {
      "cell_type": "code",
      "source": [
        "import torch\n",
        "from transformers import pipeline"
      ],
      "metadata": {
        "id": "QEIWQ4pkuAkA"
      },
      "execution_count": null,
      "outputs": []
    },
    {
      "cell_type": "markdown",
      "source": [
        "# Load model"
      ],
      "metadata": {
        "id": "a_gnSoR-XR0L"
      }
    },
    {
      "cell_type": "code",
      "source": [
        "generation_config: GenerationConfig = GenerationConfig.from_pretrained(\n",
        "        \"My-private-model\",\n",
        "        num_beams=num_beams)"
      ],
      "metadata": {
        "id": "YC4xuck_ayJP"
      },
      "execution_count": null,
      "outputs": []
    },
    {
      "cell_type": "code",
      "source": [
        "generate_text = pipeline(model=\"databricks/dolly-v2-3b\", torch_dtype=torch.bfloat16, trust_remote_code=True, device_map=\"auto\")"
      ],
      "metadata": {
        "id": "hxpPNm67GVF6"
      },
      "execution_count": null,
      "outputs": []
    },
    {
      "cell_type": "markdown",
      "source": [
        "# Generate text"
      ],
      "metadata": {
        "id": "qYC8I3V7Za8w"
      }
    },
    {
      "cell_type": "code",
      "source": [
        "res = generate_text(\"Explain to me the difference between nuclear fission and fusion.\")\n",
        "print(res[0][\"generated_text\"])"
      ],
      "metadata": {
        "id": "Og0aXQW4Gnj1"
      },
      "execution_count": null,
      "outputs": []
    }
  ]
}